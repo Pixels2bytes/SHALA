{
  "nbformat": 4,
  "nbformat_minor": 0,
  "metadata": {
    "colab": {
      "provenance": [],
      "include_colab_link": true
    },
    "kernelspec": {
      "name": "python3",
      "display_name": "Python 3"
    },
    "language_info": {
      "name": "python"
    }
  },
  "cells": [
    {
      "cell_type": "markdown",
      "metadata": {
        "id": "view-in-github",
        "colab_type": "text"
      },
      "source": [
        "<a href=\"https://colab.research.google.com/github/Pixels2bytes/SHALA/blob/main/core.ipynb\" target=\"_parent\"><img src=\"https://colab.research.google.com/assets/colab-badge.svg\" alt=\"Open In Colab\"/></a>"
      ]
    },
    {
      "cell_type": "markdown",
      "source": [
        "# SHALA (Supportive Help Agent and Lifeline Assistant)\n",
        "This is a Python-based chatbot project powered by the Gemma 3 AI Agent, designed to assist individuals experiencing depression by providing ongoing emotional check-ins and real-time crisis intervention. Mental health support systems must be developed and used with sensitivity, responsibility, and respect for the lives they aim to protect. SHALA is not a replacement for certified therapists or mental health professionals. This project is intended for research, prototype development, and educational purposes only. Any misuse of this software that results in the abuse of real emergency lines is strictly prohibited. Developers and users must ensure that real hotline numbers are never used in any version of this program outside of an officially approved deployment with proper oversight and consent. **During development, all outgoing call features were pointed to a non-functioning test number.**"
      ],
      "metadata": {
        "id": "iXoXxK9WhdqK"
      }
    },
    {
      "cell_type": "markdown",
      "source": [
        "## Setup Imports, Documents, and Libraries"
      ],
      "metadata": {
        "id": "lum9eIUKdQo8"
      }
    },
    {
      "cell_type": "code",
      "execution_count": 11,
      "metadata": {
        "id": "-s-3nMNB0Sog"
      },
      "outputs": [],
      "source": [
        "import os\n",
        "import tensorflow as tf\n",
        "from google.colab import drive\n",
        "from google.colab import userdata\n",
        "\n",
        "#drive.mount('/content/drive/') # Can't access your drive\n",
        "google_api_key = userdata.get('GOOGLE_API_KEY') # retrieve Google API Key\n",
        "whatsapp_api_key = userdata.get('WHATSAPP_API_KEY') # retrieve Google API Key\n",
        "provider_num = userdata.get('DUMMY_NUMBER') # Retrieve DUMMY NUMBER. NEVER use a HELP Provider number\n",
        "kaggle_user = userdata.get('KAGGLE_USER') # Retrieve Kaggle dataset download username found in kaggle.json\n",
        "kaggle_download_api = userdata.get('KAGGLE_API') # Retrieve Kaggle dataset download token found in kaggle.json"
      ]
    },
    {
      "cell_type": "markdown",
      "source": [
        "Make root folder and necessary folders"
      ],
      "metadata": {
        "id": "vWQwRbga9cFE"
      }
    },
    {
      "cell_type": "code",
      "source": [
        "# Set project root folder\n",
        "project_root = \"/content/shala\"\n",
        "\n",
        "# Make subfolders\n",
        "os.makedirs(f\"{project_root}/datasets\", exist_ok=True)\n",
        "os.makedirs(f\"{project_root}/cloned repos\", exist_ok=True)\n",
        "%cd {project_root}"
      ],
      "metadata": {
        "colab": {
          "base_uri": "https://localhost:8080/"
        },
        "id": "S4kGpo8p8-Bc",
        "outputId": "29abe694-c0bd-49d0-b342-f6585ce38732"
      },
      "execution_count": 19,
      "outputs": [
        {
          "output_type": "stream",
          "name": "stdout",
          "text": [
            "/content/shala\n"
          ]
        }
      ]
    },
    {
      "cell_type": "markdown",
      "source": [
        "FOR ME TO DELETE ////////////////////////////////////"
      ],
      "metadata": {
        "id": "T23TUQE_ATCx"
      }
    },
    {
      "cell_type": "code",
      "source": [
        "# !rm -rf cloned_repos # trying to delete manually to test but dont have permissions?"
      ],
      "metadata": {
        "id": "w5LcJHWM4kn5"
      },
      "execution_count": 20,
      "outputs": []
    },
    {
      "cell_type": "markdown",
      "source": [
        "### Installation\n",
        "Clone repos for AI Agent and Whatsapp API Templates"
      ],
      "metadata": {
        "id": "H5O-_FEYmcYh"
      }
    },
    {
      "cell_type": "code",
      "source": [
        "!git clone https://github.com/GoogleCloudPlatform/agent-starter-pack.git cloned_repos/agent-starter-pack # Clone Agent Starter Pack from Google\n",
        "!git clone https://github.com/simonsanvil/openai-whatsapp-chatbot.git cloned_repos/openai-whatsapp-chatbot # Clone Whatsapp API chatbot setup template"
      ],
      "metadata": {
        "id": "BbGd6lQkmgpy"
      },
      "execution_count": null,
      "outputs": []
    },
    {
      "cell_type": "markdown",
      "source": [
        "### Download datasets (Depreciated / May Fix Later)"
      ],
      "metadata": {
        "id": "NxZRIpiqr2VT"
      }
    },
    {
      "cell_type": "markdown",
      "source": [
        "Grab Kaggle Datasets by going to kaggle.com > Settings > API and generate a token, From there add the json file to the project or add the username and key to your secrets"
      ],
      "metadata": {
        "id": "z8Ns44rY2v3u"
      }
    },
    {
      "cell_type": "code",
      "source": [
        "kaggle_user = userdata.get('KAGGLE_USER') # Retrieve Kaggle dataset download username found in kaggle.json\n",
        "kaggle_download_api = userdata.get('KAGGLE_API') # Retrieve Kaggle dataset download token found in kaggle.json"
      ],
      "metadata": {
        "id": "lkoEBCNT3SGD"
      },
      "execution_count": 14,
      "outputs": []
    },
    {
      "cell_type": "markdown",
      "source": [
        "Automatically downloads the Kaggle datasets"
      ],
      "metadata": {
        "id": "u9rJrM9B3U8q"
      }
    },
    {
      "cell_type": "code",
      "source": [
        "# !kaggle datasets download -d rvarun11/suicidal-ideation-reddit-dataset # Suicidal Ideation Reddit -p datasets\n",
        "# !kaggle datasets download -d natalialech/suicidal-ideation-on-twitter # Suicidal Ideation Twitter -p datasets"
      ],
      "metadata": {
        "id": "YZFRjtRFr7JB"
      },
      "execution_count": null,
      "outputs": []
    }
  ]
}