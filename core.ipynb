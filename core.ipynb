{
  "nbformat": 4,
  "nbformat_minor": 0,
  "metadata": {
    "colab": {
      "provenance": [],
      "include_colab_link": true
    },
    "kernelspec": {
      "name": "python3",
      "display_name": "Python 3"
    },
    "language_info": {
      "name": "python"
    }
  },
  "cells": [
    {
      "cell_type": "markdown",
      "metadata": {
        "id": "view-in-github",
        "colab_type": "text"
      },
      "source": [
        "<a href=\"https://colab.research.google.com/github/Pixels2bytes/SHALA/blob/main/core.ipynb\" target=\"_parent\"><img src=\"https://colab.research.google.com/assets/colab-badge.svg\" alt=\"Open In Colab\"/></a>"
      ]
    },
    {
      "cell_type": "markdown",
      "source": [
        "# SHALA (Supportive Help Agent and Lifeline Assistant)\n",
        "This is a Python-based chatbot project powered by the Gemma 3 AI Agent, designed to assist individuals experiencing depression by providing ongoing emotional check-ins and real-time crisis intervention. Mental health support systems must be developed and used with sensitivity, responsibility, and respect for the lives they aim to protect. SHALA is not a replacement for certified therapists or mental health professionals. This project is intended for research, prototype development, and educational purposes only. Any misuse of this software that results in the abuse of real emergency lines is strictly prohibited. Developers and users must ensure that real hotline numbers are never used in any version of this program outside of an officially approved deployment with proper oversight and consent. **During development, all outgoing call features were pointed to a non-functioning test number.**"
      ],
      "metadata": {
        "id": "iXoXxK9WhdqK"
      }
    },
    {
      "cell_type": "markdown",
      "source": [
        "### Setup Imports, Documents, and Libraries"
      ],
      "metadata": {
        "id": "lum9eIUKdQo8"
      }
    },
    {
      "cell_type": "markdown",
      "source": [
        "### Installation\n",
        "Clone repos for AI Agent and Whatsapp API Templates"
      ],
      "metadata": {
        "id": "H5O-_FEYmcYh"
      }
    },
    {
      "cell_type": "code",
      "source": [
        "!git clone https://github.com/GoogleCloudPlatform/agent-starter-pack.git # Clone Agent Starter Pack from Google\n",
        "%cd agent-starter-pack\n",
        "%cd ..\n",
        "!git clone https://github.com/simonsanvil/openai-whatsapp-chatbot.git # Clone Whatsapp API chatbot setup template\n",
        "%cd openai-whatsapp-chatbot"
      ],
      "metadata": {
        "id": "BbGd6lQkmgpy",
        "colab": {
          "base_uri": "https://localhost:8080/"
        },
        "outputId": "80fef878-4f04-49e2-a655-16f7772d32ef"
      },
      "execution_count": null,
      "outputs": [
        {
          "output_type": "stream",
          "name": "stdout",
          "text": [
            "fatal: destination path 'agent-starter-pack' already exists and is not an empty directory.\n",
            "/content/agent-starter-pack\n",
            "/content\n",
            "Cloning into 'openai-whatsapp-chatbot'...\n",
            "remote: Enumerating objects: 506, done.\u001b[K\n",
            "remote: Counting objects: 100% (61/61), done.\u001b[K\n",
            "remote: Compressing objects: 100% (23/23), done.\u001b[K\n",
            "remote: Total 506 (delta 53), reused 38 (delta 38), pack-reused 445 (from 1)\u001b[K\n",
            "Receiving objects: 100% (506/506), 116.59 KiB | 3.07 MiB/s, done.\n",
            "Resolving deltas: 100% (276/276), done.\n",
            "/content/openai-whatsapp-chatbot\n"
          ]
        }
      ]
    },
    {
      "cell_type": "markdown",
      "source": [
        "Download datasets"
      ],
      "metadata": {
        "id": "NxZRIpiqr2VT"
      }
    },
    {
      "cell_type": "code",
      "execution_count": null,
      "metadata": {
        "id": "-s-3nMNB0Sog"
      },
      "outputs": [],
      "source": [
        "import tensorflow as tf\n",
        "from google.colab import drive\n",
        "from google.colab import userdata\n",
        "#drive.mount('/content/drive/') # Can't access your drive\n",
        "google_api_key = userdata.get('GOOGLE_API_KEY') # retrieve Google API Key\n",
        "whatsapp_api_key = userdata.get('WHATSAPP_API_KEY') # retrieve Google API Key\n",
        "provider_num = userdata.get('DUMMY_NUMBER') # Retrieve DUMMY NUMBER. NEVER use a HELP Provider number\n",
        "kaggle_user = userdata.get('KAGGLE_USER') # Retrieve Kaggle dataset download username found in kaggle.json\n",
        "kaggle_download_api = userdata.get('KAGGLE_API') # Retrieve Kaggle dataset download token found in kaggle.json"
      ]
    },
    {
      "cell_type": "code",
      "source": [
        "!mkdir -p datasets # Create a datasets folder\n",
        "\n",
        "# Downloads datasets to datasets folder\n",
        "!kaggle datasets download -d rvarun11/suicidal-ideation-reddit-dataset # Suicidal Ideation Reddit -p datasets\n",
        "!kaggle datasets download -d natalialech/suicidal-ideation-on-twitter # Suicidal Ideation Twitter -p datasets\n"
      ],
      "metadata": {
        "colab": {
          "base_uri": "https://localhost:8080/"
        },
        "id": "YZFRjtRFr7JB",
        "outputId": "3e3af29c-43df-4692-f0b2-140f2f27aa60"
      },
      "execution_count": 2,
      "outputs": [
        {
          "output_type": "stream",
          "name": "stdout",
          "text": [
            "Traceback (most recent call last):\n",
            "  File \"/usr/local/bin/kaggle\", line 10, in <module>\n",
            "    sys.exit(main())\n",
            "             ^^^^^^\n",
            "  File \"/usr/local/lib/python3.11/dist-packages/kaggle/cli.py\", line 68, in main\n",
            "    out = args.func(**command_args)\n",
            "          ^^^^^^^^^^^^^^^^^^^^^^^^^\n",
            "  File \"/usr/local/lib/python3.11/dist-packages/kaggle/api/kaggle_api_extended.py\", line 1734, in dataset_download_cli\n",
            "    with self.build_kaggle_client() as kaggle:\n",
            "         ^^^^^^^^^^^^^^^^^^^^^^^^^^\n",
            "  File \"/usr/local/lib/python3.11/dist-packages/kaggle/api/kaggle_api_extended.py\", line 688, in build_kaggle_client\n",
            "    username=self.config_values['username'],\n",
            "             ~~~~~~~~~~~~~~~~~~^^^^^^^^^^^^\n",
            "KeyError: 'username'\n",
            "Traceback (most recent call last):\n",
            "  File \"/usr/local/bin/kaggle\", line 10, in <module>\n",
            "    sys.exit(main())\n",
            "             ^^^^^^\n",
            "  File \"/usr/local/lib/python3.11/dist-packages/kaggle/cli.py\", line 68, in main\n",
            "    out = args.func(**command_args)\n",
            "          ^^^^^^^^^^^^^^^^^^^^^^^^^\n",
            "  File \"/usr/local/lib/python3.11/dist-packages/kaggle/api/kaggle_api_extended.py\", line 1734, in dataset_download_cli\n",
            "    with self.build_kaggle_client() as kaggle:\n",
            "         ^^^^^^^^^^^^^^^^^^^^^^^^^^\n",
            "  File \"/usr/local/lib/python3.11/dist-packages/kaggle/api/kaggle_api_extended.py\", line 688, in build_kaggle_client\n",
            "    username=self.config_values['username'],\n",
            "             ~~~~~~~~~~~~~~~~~~^^^^^^^^^^^^\n",
            "KeyError: 'username'\n"
          ]
        }
      ]
    }
  ]
}